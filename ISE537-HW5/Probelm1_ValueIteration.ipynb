{
  "nbformat": 4,
  "nbformat_minor": 0,
  "metadata": {
    "colab": {
      "provenance": []
    },
    "kernelspec": {
      "name": "python3",
      "display_name": "Python 3"
    },
    "language_info": {
      "name": "python"
    }
  },
  "cells": [
    {
      "cell_type": "code",
      "source": [
        "import numpy as np\n",
        "\n",
        "oldV = np.array([0.0, 0.0, 0.0, 0.0, -10.0, 100.0, -1000.0])\n",
        "V = np.array([0.0, 0.0, 0.0, 0.0, -10.0, 100.0, -1000.0])\n",
        "greed = [\"\", \"\", \"\", \"\"]\n",
        "# print(\"iteration 0: \", V)\n",
        "for i in range(100):\n",
        "  V[1-1] = np.max([0 + oldV[1-1]*0.5 + oldV[2-1]*0.5, 0 + oldV[1-1]*0.5 + oldV[3-1]*0.5])\n",
        "  if (0 + oldV[1-1]*0.5 + oldV[2-1]*0.5) > (0 + oldV[1-1]*0.5 + oldV[3-1]*0.5):\n",
        "    greed[0] = 'Rest'\n",
        "  else:\n",
        "    greed[0] = 'Work'\n",
        "  V[2-1] = np.max([1 + oldV[5-1]*0.4 + oldV[2-1]*0.6, 1 + oldV[1-1]*0.3 + oldV[3-1]*0.7])\n",
        "  if (oldV[5-1]*0.4 + oldV[2-1]*0.6) > (1 + oldV[1-1]*0.3 + oldV[3-1]*0.7):\n",
        "    greed[1] = 'Rest'\n",
        "  else:\n",
        "    greed[1] = 'Work'\n",
        "  V[3-1] = np.max([-1 + oldV[2-1]*0.4 + oldV[3-1]*0.6, -1 + oldV[3-1]*0.5 + oldV[4-1]*0.5])\n",
        "  if (-1 + oldV[2-1]*0.4 + oldV[3-1]*0.6) > (-1 + oldV[3-1]*0.5 + oldV[4-1]*0.5):\n",
        "    greed[2] = 'Rest'\n",
        "  else:\n",
        "    greed[2] = 'Work'\n",
        "  V[4-1] = np.max([-10 + oldV[4-1]*0.1 + oldV[6-1]*0.9, -10 + oldV[7-1]])\n",
        "  if (-10 + oldV[4-1]*0.1 + oldV[6-1]*0.9) > (-10 + oldV[7-1]):\n",
        "    greed[3] = 'Rest'\n",
        "  else:\n",
        "    greed[3] = 'Work'\n",
        "  max = 0\n",
        "  for x in range(4):\n",
        "    if V[x] - oldV[x] > max:\n",
        "      max = V[x] - oldV[x]\n",
        "  if max < 1e-2:\n",
        "      print(f\"Stopped at {i+1} iterations.\")\n",
        "      break\n",
        "  oldV[:] = V\n",
        "print(V)\n",
        "print(greed)"
      ],
      "metadata": {
        "colab": {
          "base_uri": "https://localhost:8080/"
        },
        "id": "3oAqiJ76y8im",
        "outputId": "206e9f72-1e40-4fda-f266-ece5ae4074d8"
      },
      "execution_count": null,
      "outputs": [
        {
          "output_type": "stream",
          "name": "stdout",
          "text": [
            "Stopped at 25 iterations.\n",
            "[   88.29482169    88.30790204    86.88888299    88.88888889\n",
            "   -10.           100.         -1000.        ]\n",
            "['Rest', 'Work', 'Work', 'Rest']\n"
          ]
        }
      ]
    }
  ]
}