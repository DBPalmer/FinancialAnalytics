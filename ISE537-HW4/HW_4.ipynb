{
  "cells": [
    {
      "cell_type": "code",
      "execution_count": null,
      "metadata": {
        "colab": {
          "base_uri": "https://localhost:8080/"
        },
        "id": "W55gpNyvj7fI",
        "outputId": "ffd55acd-03e9-4b65-f7fd-1cff100099a4"
      },
      "outputs": [
        {
          "output_type": "stream",
          "name": "stdout",
          "text": [
            "Mounted at /content/drive\n"
          ]
        }
      ],
      "source": [
        "import yfinance as yf\n",
        "import pandas as pd\n",
        "import numpy as np\n",
        "import matplotlib.pyplot as plt\n",
        "from sklearn.preprocessing import MinMaxScaler\n",
        "from keras.models import Sequential\n",
        "from keras.layers import Dense, LSTM\n",
        "from google.colab import drive\n",
        "\n",
        "drive.mount('/content/drive')"
      ]
    },
    {
      "cell_type": "code",
      "execution_count": null,
      "metadata": {
        "colab": {
          "base_uri": "https://localhost:8080/",
          "height": 254
        },
        "id": "nbHbzG6Fj7fO",
        "outputId": "18949a87-ef2f-4883-edf3-39126ec2fd1e"
      },
      "outputs": [
        {
          "output_type": "stream",
          "name": "stderr",
          "text": [
            "\r[*********************100%%**********************]  1 of 1 completed\n"
          ]
        },
        {
          "output_type": "execute_result",
          "data": {
            "text/plain": [
              "                 Open       High        Low      Close  Adj Close     Volume\n",
              "Date                                                                        \n",
              "2016-01-04  25.652500  26.342501  25.500000  26.337500  23.946920  270597600\n",
              "2016-01-05  26.437500  26.462500  25.602501  25.677500  23.346825  223164000\n",
              "2016-01-06  25.139999  25.592501  24.967501  25.174999  22.889933  273829600\n",
              "2016-01-07  24.670000  25.032499  24.107500  24.112499  21.923876  324377600\n",
              "2016-01-08  24.637501  24.777500  24.190001  24.240000  22.039804  283192000"
            ],
            "text/html": [
              "\n",
              "  <div id=\"df-e36b7059-1f81-4cbe-b0cf-c3aa13b0d912\" class=\"colab-df-container\">\n",
              "    <div>\n",
              "<style scoped>\n",
              "    .dataframe tbody tr th:only-of-type {\n",
              "        vertical-align: middle;\n",
              "    }\n",
              "\n",
              "    .dataframe tbody tr th {\n",
              "        vertical-align: top;\n",
              "    }\n",
              "\n",
              "    .dataframe thead th {\n",
              "        text-align: right;\n",
              "    }\n",
              "</style>\n",
              "<table border=\"1\" class=\"dataframe\">\n",
              "  <thead>\n",
              "    <tr style=\"text-align: right;\">\n",
              "      <th></th>\n",
              "      <th>Open</th>\n",
              "      <th>High</th>\n",
              "      <th>Low</th>\n",
              "      <th>Close</th>\n",
              "      <th>Adj Close</th>\n",
              "      <th>Volume</th>\n",
              "    </tr>\n",
              "    <tr>\n",
              "      <th>Date</th>\n",
              "      <th></th>\n",
              "      <th></th>\n",
              "      <th></th>\n",
              "      <th></th>\n",
              "      <th></th>\n",
              "      <th></th>\n",
              "    </tr>\n",
              "  </thead>\n",
              "  <tbody>\n",
              "    <tr>\n",
              "      <th>2016-01-04</th>\n",
              "      <td>25.652500</td>\n",
              "      <td>26.342501</td>\n",
              "      <td>25.500000</td>\n",
              "      <td>26.337500</td>\n",
              "      <td>23.946920</td>\n",
              "      <td>270597600</td>\n",
              "    </tr>\n",
              "    <tr>\n",
              "      <th>2016-01-05</th>\n",
              "      <td>26.437500</td>\n",
              "      <td>26.462500</td>\n",
              "      <td>25.602501</td>\n",
              "      <td>25.677500</td>\n",
              "      <td>23.346825</td>\n",
              "      <td>223164000</td>\n",
              "    </tr>\n",
              "    <tr>\n",
              "      <th>2016-01-06</th>\n",
              "      <td>25.139999</td>\n",
              "      <td>25.592501</td>\n",
              "      <td>24.967501</td>\n",
              "      <td>25.174999</td>\n",
              "      <td>22.889933</td>\n",
              "      <td>273829600</td>\n",
              "    </tr>\n",
              "    <tr>\n",
              "      <th>2016-01-07</th>\n",
              "      <td>24.670000</td>\n",
              "      <td>25.032499</td>\n",
              "      <td>24.107500</td>\n",
              "      <td>24.112499</td>\n",
              "      <td>21.923876</td>\n",
              "      <td>324377600</td>\n",
              "    </tr>\n",
              "    <tr>\n",
              "      <th>2016-01-08</th>\n",
              "      <td>24.637501</td>\n",
              "      <td>24.777500</td>\n",
              "      <td>24.190001</td>\n",
              "      <td>24.240000</td>\n",
              "      <td>22.039804</td>\n",
              "      <td>283192000</td>\n",
              "    </tr>\n",
              "  </tbody>\n",
              "</table>\n",
              "</div>\n",
              "    <div class=\"colab-df-buttons\">\n",
              "\n",
              "  <div class=\"colab-df-container\">\n",
              "    <button class=\"colab-df-convert\" onclick=\"convertToInteractive('df-e36b7059-1f81-4cbe-b0cf-c3aa13b0d912')\"\n",
              "            title=\"Convert this dataframe to an interactive table.\"\n",
              "            style=\"display:none;\">\n",
              "\n",
              "  <svg xmlns=\"http://www.w3.org/2000/svg\" height=\"24px\" viewBox=\"0 -960 960 960\">\n",
              "    <path d=\"M120-120v-720h720v720H120Zm60-500h600v-160H180v160Zm220 220h160v-160H400v160Zm0 220h160v-160H400v160ZM180-400h160v-160H180v160Zm440 0h160v-160H620v160ZM180-180h160v-160H180v160Zm440 0h160v-160H620v160Z\"/>\n",
              "  </svg>\n",
              "    </button>\n",
              "\n",
              "  <style>\n",
              "    .colab-df-container {\n",
              "      display:flex;\n",
              "      gap: 12px;\n",
              "    }\n",
              "\n",
              "    .colab-df-convert {\n",
              "      background-color: #E8F0FE;\n",
              "      border: none;\n",
              "      border-radius: 50%;\n",
              "      cursor: pointer;\n",
              "      display: none;\n",
              "      fill: #1967D2;\n",
              "      height: 32px;\n",
              "      padding: 0 0 0 0;\n",
              "      width: 32px;\n",
              "    }\n",
              "\n",
              "    .colab-df-convert:hover {\n",
              "      background-color: #E2EBFA;\n",
              "      box-shadow: 0px 1px 2px rgba(60, 64, 67, 0.3), 0px 1px 3px 1px rgba(60, 64, 67, 0.15);\n",
              "      fill: #174EA6;\n",
              "    }\n",
              "\n",
              "    .colab-df-buttons div {\n",
              "      margin-bottom: 4px;\n",
              "    }\n",
              "\n",
              "    [theme=dark] .colab-df-convert {\n",
              "      background-color: #3B4455;\n",
              "      fill: #D2E3FC;\n",
              "    }\n",
              "\n",
              "    [theme=dark] .colab-df-convert:hover {\n",
              "      background-color: #434B5C;\n",
              "      box-shadow: 0px 1px 3px 1px rgba(0, 0, 0, 0.15);\n",
              "      filter: drop-shadow(0px 1px 2px rgba(0, 0, 0, 0.3));\n",
              "      fill: #FFFFFF;\n",
              "    }\n",
              "  </style>\n",
              "\n",
              "    <script>\n",
              "      const buttonEl =\n",
              "        document.querySelector('#df-e36b7059-1f81-4cbe-b0cf-c3aa13b0d912 button.colab-df-convert');\n",
              "      buttonEl.style.display =\n",
              "        google.colab.kernel.accessAllowed ? 'block' : 'none';\n",
              "\n",
              "      async function convertToInteractive(key) {\n",
              "        const element = document.querySelector('#df-e36b7059-1f81-4cbe-b0cf-c3aa13b0d912');\n",
              "        const dataTable =\n",
              "          await google.colab.kernel.invokeFunction('convertToInteractive',\n",
              "                                                    [key], {});\n",
              "        if (!dataTable) return;\n",
              "\n",
              "        const docLinkHtml = 'Like what you see? Visit the ' +\n",
              "          '<a target=\"_blank\" href=https://colab.research.google.com/notebooks/data_table.ipynb>data table notebook</a>'\n",
              "          + ' to learn more about interactive tables.';\n",
              "        element.innerHTML = '';\n",
              "        dataTable['output_type'] = 'display_data';\n",
              "        await google.colab.output.renderOutput(dataTable, element);\n",
              "        const docLink = document.createElement('div');\n",
              "        docLink.innerHTML = docLinkHtml;\n",
              "        element.appendChild(docLink);\n",
              "      }\n",
              "    </script>\n",
              "  </div>\n",
              "\n",
              "\n",
              "<div id=\"df-a02a3531-d491-4170-8533-74f73489f65f\">\n",
              "  <button class=\"colab-df-quickchart\" onclick=\"quickchart('df-a02a3531-d491-4170-8533-74f73489f65f')\"\n",
              "            title=\"Suggest charts\"\n",
              "            style=\"display:none;\">\n",
              "\n",
              "<svg xmlns=\"http://www.w3.org/2000/svg\" height=\"24px\"viewBox=\"0 0 24 24\"\n",
              "     width=\"24px\">\n",
              "    <g>\n",
              "        <path d=\"M19 3H5c-1.1 0-2 .9-2 2v14c0 1.1.9 2 2 2h14c1.1 0 2-.9 2-2V5c0-1.1-.9-2-2-2zM9 17H7v-7h2v7zm4 0h-2V7h2v10zm4 0h-2v-4h2v4z\"/>\n",
              "    </g>\n",
              "</svg>\n",
              "  </button>\n",
              "\n",
              "<style>\n",
              "  .colab-df-quickchart {\n",
              "      --bg-color: #E8F0FE;\n",
              "      --fill-color: #1967D2;\n",
              "      --hover-bg-color: #E2EBFA;\n",
              "      --hover-fill-color: #174EA6;\n",
              "      --disabled-fill-color: #AAA;\n",
              "      --disabled-bg-color: #DDD;\n",
              "  }\n",
              "\n",
              "  [theme=dark] .colab-df-quickchart {\n",
              "      --bg-color: #3B4455;\n",
              "      --fill-color: #D2E3FC;\n",
              "      --hover-bg-color: #434B5C;\n",
              "      --hover-fill-color: #FFFFFF;\n",
              "      --disabled-bg-color: #3B4455;\n",
              "      --disabled-fill-color: #666;\n",
              "  }\n",
              "\n",
              "  .colab-df-quickchart {\n",
              "    background-color: var(--bg-color);\n",
              "    border: none;\n",
              "    border-radius: 50%;\n",
              "    cursor: pointer;\n",
              "    display: none;\n",
              "    fill: var(--fill-color);\n",
              "    height: 32px;\n",
              "    padding: 0;\n",
              "    width: 32px;\n",
              "  }\n",
              "\n",
              "  .colab-df-quickchart:hover {\n",
              "    background-color: var(--hover-bg-color);\n",
              "    box-shadow: 0 1px 2px rgba(60, 64, 67, 0.3), 0 1px 3px 1px rgba(60, 64, 67, 0.15);\n",
              "    fill: var(--button-hover-fill-color);\n",
              "  }\n",
              "\n",
              "  .colab-df-quickchart-complete:disabled,\n",
              "  .colab-df-quickchart-complete:disabled:hover {\n",
              "    background-color: var(--disabled-bg-color);\n",
              "    fill: var(--disabled-fill-color);\n",
              "    box-shadow: none;\n",
              "  }\n",
              "\n",
              "  .colab-df-spinner {\n",
              "    border: 2px solid var(--fill-color);\n",
              "    border-color: transparent;\n",
              "    border-bottom-color: var(--fill-color);\n",
              "    animation:\n",
              "      spin 1s steps(1) infinite;\n",
              "  }\n",
              "\n",
              "  @keyframes spin {\n",
              "    0% {\n",
              "      border-color: transparent;\n",
              "      border-bottom-color: var(--fill-color);\n",
              "      border-left-color: var(--fill-color);\n",
              "    }\n",
              "    20% {\n",
              "      border-color: transparent;\n",
              "      border-left-color: var(--fill-color);\n",
              "      border-top-color: var(--fill-color);\n",
              "    }\n",
              "    30% {\n",
              "      border-color: transparent;\n",
              "      border-left-color: var(--fill-color);\n",
              "      border-top-color: var(--fill-color);\n",
              "      border-right-color: var(--fill-color);\n",
              "    }\n",
              "    40% {\n",
              "      border-color: transparent;\n",
              "      border-right-color: var(--fill-color);\n",
              "      border-top-color: var(--fill-color);\n",
              "    }\n",
              "    60% {\n",
              "      border-color: transparent;\n",
              "      border-right-color: var(--fill-color);\n",
              "    }\n",
              "    80% {\n",
              "      border-color: transparent;\n",
              "      border-right-color: var(--fill-color);\n",
              "      border-bottom-color: var(--fill-color);\n",
              "    }\n",
              "    90% {\n",
              "      border-color: transparent;\n",
              "      border-bottom-color: var(--fill-color);\n",
              "    }\n",
              "  }\n",
              "</style>\n",
              "\n",
              "  <script>\n",
              "    async function quickchart(key) {\n",
              "      const quickchartButtonEl =\n",
              "        document.querySelector('#' + key + ' button');\n",
              "      quickchartButtonEl.disabled = true;  // To prevent multiple clicks.\n",
              "      quickchartButtonEl.classList.add('colab-df-spinner');\n",
              "      try {\n",
              "        const charts = await google.colab.kernel.invokeFunction(\n",
              "            'suggestCharts', [key], {});\n",
              "      } catch (error) {\n",
              "        console.error('Error during call to suggestCharts:', error);\n",
              "      }\n",
              "      quickchartButtonEl.classList.remove('colab-df-spinner');\n",
              "      quickchartButtonEl.classList.add('colab-df-quickchart-complete');\n",
              "    }\n",
              "    (() => {\n",
              "      let quickchartButtonEl =\n",
              "        document.querySelector('#df-a02a3531-d491-4170-8533-74f73489f65f button');\n",
              "      quickchartButtonEl.style.display =\n",
              "        google.colab.kernel.accessAllowed ? 'block' : 'none';\n",
              "    })();\n",
              "  </script>\n",
              "</div>\n",
              "\n",
              "    </div>\n",
              "  </div>\n"
            ],
            "application/vnd.google.colaboratory.intrinsic+json": {
              "type": "dataframe",
              "variable_name": "df",
              "summary": "{\n  \"name\": \"df\",\n  \"rows\": 231,\n  \"fields\": [\n    {\n      \"column\": \"Date\",\n      \"properties\": {\n        \"dtype\": \"date\",\n        \"min\": \"2016-01-04 00:00:00\",\n        \"max\": \"2016-11-30 00:00:00\",\n        \"num_unique_values\": 231,\n        \"samples\": [\n          \"2016-11-11 00:00:00\",\n          \"2016-04-08 00:00:00\",\n          \"2016-01-15 00:00:00\"\n        ],\n        \"semantic_type\": \"\",\n        \"description\": \"\"\n      }\n    },\n    {\n      \"column\": \"Open\",\n      \"properties\": {\n        \"dtype\": \"number\",\n        \"std\": 1.8212695816796012,\n        \"min\": 22.5,\n        \"max\": 29.545000076293945,\n        \"num_unique_values\": 222,\n        \"samples\": [\n          27.147499084472656,\n          27.530000686645508,\n          24.982500076293945\n        ],\n        \"semantic_type\": \"\",\n        \"description\": \"\"\n      }\n    },\n    {\n      \"column\": \"High\",\n      \"properties\": {\n        \"dtype\": \"number\",\n        \"std\": 1.8095238343497406,\n        \"min\": 22.917499542236328,\n        \"max\": 29.672500610351562,\n        \"num_unique_values\": 216,\n        \"samples\": [\n          27.93000030517578,\n          28.11750030517578,\n          26.5\n        ],\n        \"semantic_type\": \"\",\n        \"description\": \"\"\n      }\n    },\n    {\n      \"column\": \"Low\",\n      \"properties\": {\n        \"dtype\": \"number\",\n        \"std\": 1.8350405260709484,\n        \"min\": 22.36750030517578,\n        \"max\": 29.362499237060547,\n        \"num_unique_values\": 221,\n        \"samples\": [\n          24.834999084472656,\n          26.940000534057617,\n          23.392499923706055\n        ],\n        \"semantic_type\": \"\",\n        \"description\": \"\"\n      }\n    },\n    {\n      \"column\": \"Close\",\n      \"properties\": {\n        \"dtype\": \"number\",\n        \"std\": 1.8297346422464014,\n        \"min\": 22.584999084472656,\n        \"max\": 29.5625,\n        \"num_unique_values\": 220,\n        \"samples\": [\n          24.665000915527344,\n          27.30500030517578,\n          23.549999237060547\n        ],\n        \"semantic_type\": \"\",\n        \"description\": \"\"\n      }\n    },\n    {\n      \"column\": \"Adj Close\",\n      \"properties\": {\n        \"dtype\": \"number\",\n        \"std\": 1.7730989697040094,\n        \"min\": 20.772151947021484,\n        \"max\": 27.336883544921875,\n        \"num_unique_values\": 228,\n        \"samples\": [\n          25.19540786743164,\n          24.83333396911621,\n          22.078445434570312\n        ],\n        \"semantic_type\": \"\",\n        \"description\": \"\"\n      }\n    },\n    {\n      \"column\": \"Volume\",\n      \"properties\": {\n        \"dtype\": \"number\",\n        \"std\": 69621300,\n        \"min\": 45903600,\n        \"max\": 533478800,\n        \"num_unique_values\": 231,\n        \"samples\": [\n          136575600,\n          94326800,\n          319335600\n        ],\n        \"semantic_type\": \"\",\n        \"description\": \"\"\n      }\n    }\n  ]\n}"
            }
          },
          "metadata": {},
          "execution_count": 2
        }
      ],
      "source": [
        "# PROBLEM #1\n",
        "\n",
        "# get Data\n",
        "df = yf.download('AAPL', start='2016-01-01', end='2016-12-01')\n",
        "df.head()"
      ]
    },
    {
      "cell_type": "code",
      "execution_count": null,
      "metadata": {
        "colab": {
          "base_uri": "https://localhost:8080/"
        },
        "id": "nl82G39_j7fP",
        "outputId": "2873df39-6aed-41bd-e96b-331c235ca274"
      },
      "outputs": [
        {
          "output_type": "stream",
          "name": "stdout",
          "text": [
            "34.33416375060915 0.14863274350913053\n"
          ]
        }
      ],
      "source": [
        "# Part A\n",
        "\n",
        "M = 231\n",
        "chng = df['Close'].diff()\n",
        "chng = chng.dropna() #where k=1\n",
        "sumSqrs = (chng.head(M) ** 2).sum()\n",
        "varEst = sumSqrs / M\n",
        "print(sumSqrs, varEst)\n",
        "\n",
        "# sanity check\n",
        "# close = df['Close']\n",
        "# sum = 0\n",
        "# for i in range(1, len(df)):\n",
        "#     sum += np.power(close[i] - close[i-1], 2)\n",
        "# print(sum, sum/len(df))"
      ]
    },
    {
      "cell_type": "code",
      "execution_count": null,
      "metadata": {
        "colab": {
          "base_uri": "https://localhost:8080/"
        },
        "id": "GPviU9ISj7fQ",
        "outputId": "46f8998a-ad52-484d-cddb-38ed7ac3b31e"
      },
      "outputs": [
        {
          "output_type": "stream",
          "name": "stdout",
          "text": [
            "157120451.94805196\n",
            "0.1 1.272908762164999e-05 1.272908762164999e-06\n"
          ]
        }
      ],
      "source": [
        "# Part B\n",
        "\n",
        "avgVol = df['Volume'].mean()\n",
        "print(avgVol)\n",
        "\n",
        "spread = 0.2\n",
        "epsilon = spread / 2\n",
        "eta = spread / (0.0001 * avgVol)\n",
        "gamma = spread / (0.001 * avgVol)\n",
        "print(epsilon, eta, gamma)"
      ]
    },
    {
      "cell_type": "code",
      "execution_count": null,
      "metadata": {
        "colab": {
          "base_uri": "https://localhost:8080/",
          "height": 472
        },
        "id": "-rswlNzxj7fR",
        "outputId": "bb81b7d8-3ac5-439a-dfdc-4b527bf08ede"
      },
      "outputs": [
        {
          "output_type": "display_data",
          "data": {
            "text/plain": [
              "<Figure size 640x480 with 1 Axes>"
            ],
            "image/png": "[encoded data removed]"
          },
          "metadata": {}
        }
      ],
      "source": [
        "# Part C\n",
        "# for lambda = 0.001\n",
        "\n",
        "X = 3000000\n",
        "N = 10\n",
        "T = 10\n",
        "lmbda = 0.001\n",
        "tau = T/N\n",
        "eta_hat = eta - 0.5*gamma*tau\n",
        "kappaSqrd = lmbda*varEst/eta_hat\n",
        "kappa = (np.arccosh((kappaSqrd * np.power(tau, 2)/ 2) + 1)) / tau\n",
        "\n",
        "# sanity check\n",
        "# print(kappaSqrd)\n",
        "# print(2*(np.cosh(kappa)-1))\n",
        "\n",
        "x = np.empty(N)\n",
        "n = np.empty(N)\n",
        "for j in range(N):\n",
        "    x[j] = ((np.sinh(kappa*(T-j))) / (np.sinh(kappa*T))) * X\n",
        "    n[j] = ((2 * np.sinh(0.5 * kappa * tau)) / (np.sinh(kappa * T))) * np.cosh(kappa * (T - (j - 0.5) * tau)) * X\n",
        "    # print(x[j])\n",
        "\n",
        "plt.plot(np.linspace(0, 10, N), x, label='Shares Owned (x)')\n",
        "plt.xlabel('Day')\n",
        "plt.ylabel('Shares')\n",
        "plt.title('Shares Owned Per Day')\n",
        "plt.legend()\n",
        "plt.grid(True)\n",
        "plt.show()\n",
        "\n"
      ]
    },
    {
      "cell_type": "code",
      "execution_count": null,
      "metadata": {
        "colab": {
          "base_uri": "https://localhost:8080/",
          "height": 472
        },
        "id": "JtUz_4nAj7fS",
        "outputId": "ee36d275-dc78-436b-c2f3-a2d507ca0c05"
      },
      "outputs": [
        {
          "output_type": "display_data",
          "data": {
            "text/plain": [
              "<Figure size 640x480 with 1 Axes>"
            ],
            "image/png": "[encoded data removed]"
          },
          "metadata": {}
        }
      ],
      "source": [
        "# Part C\n",
        "# for lambda = 0.0001\n",
        "\n",
        "X = 3000000\n",
        "N = 10\n",
        "T = 10\n",
        "lmbda = 0.0001\n",
        "tau = T/N\n",
        "eta_hat = eta - 0.5*gamma*tau\n",
        "kappaSqrd = lmbda*varEst/eta_hat\n",
        "kappa = (np.arccosh((kappaSqrd * np.power(tau, 2)/ 2) + 1)) / tau\n",
        "\n",
        "# sanity check\n",
        "# print(kappaSqrd)\n",
        "# print(2*(np.cosh(kappa)-1))\n",
        "\n",
        "x = np.empty(N)\n",
        "n = np.empty(N)\n",
        "for j in range(N):\n",
        "    x[j] = ((np.sinh(kappa*(T-j))) / (np.sinh(kappa*T))) * X\n",
        "    n[j] = ((2 * np.sinh(0.5 * kappa * tau)) / (np.sinh(kappa * T))) * np.cosh(kappa * (T - (j - 0.5) * tau)) * X\n",
        "    # print(x[j])\n",
        "\n",
        "plt.plot(np.linspace(0, 10, N), x, label='Shares Owned (x)')\n",
        "plt.xlabel('Day')\n",
        "plt.ylabel('Shares')\n",
        "plt.title('Shares Owned Per Day')\n",
        "plt.legend()\n",
        "plt.grid(True)\n",
        "plt.show()"
      ]
    },
    {
      "cell_type": "code",
      "execution_count": null,
      "metadata": {
        "colab": {
          "base_uri": "https://localhost:8080/"
        },
        "id": "O6GE1exGj7fT",
        "outputId": "27fdcb39-48e1-4b74-8b86-c3b3cd61c182"
      },
      "outputs": [
        {
          "output_type": "stream",
          "name": "stdout",
          "text": [
            "                 datetime    price\n",
            "0     2017-06-28 00:01:00  2344.00\n",
            "2     2017-06-28 00:02:00  2337.18\n",
            "4     2017-06-28 00:03:00  2335.02\n",
            "6     2017-06-28 00:04:00  2341.99\n",
            "8     2017-06-28 00:05:00  2343.98\n",
            "...                   ...      ...\n",
            "47666 2017-07-14 13:14:00  2320.22\n",
            "47668 2017-07-14 13:15:00  2320.22\n",
            "47670 2017-07-14 13:16:00  2322.55\n",
            "47672 2017-07-14 13:17:00  2320.47\n",
            "47674 2017-07-14 13:18:00  2320.47\n",
            "\n",
            "[23838 rows x 2 columns]\n"
          ]
        }
      ],
      "source": [
        "# PROBLEM #2\n",
        "\n",
        "# get Data\n",
        "bit = pd.read_csv(\"/content/drive/My Drive/ISE537-HW4/Bitcoin_Price.csv\", parse_dates=[\"datetime\"])\n",
        "# clean Data\n",
        "bit.drop_duplicates(subset=['datetime'], keep='first', inplace=True)\n",
        "print(bit)"
      ]
    },
    {
      "cell_type": "code",
      "execution_count": null,
      "metadata": {
        "colab": {
          "base_uri": "https://localhost:8080/"
        },
        "id": "2t2FQpthj7fU",
        "outputId": "4ca0b855-5140-46a9-de40-65f4b5a4ef8d"
      },
      "outputs": [
        {
          "output_type": "execute_result",
          "data": {
            "text/plain": [
              "array([[0.22995953],\n",
              "       [0.21487804],\n",
              "       [0.2101015 ],\n",
              "       ...,\n",
              "       [0.18252582],\n",
              "       [0.17792618],\n",
              "       [0.17792618]])"
            ]
          },
          "metadata": {},
          "execution_count": 19
        }
      ],
      "source": [
        "# Step 1\n",
        "\n",
        "data = bit.filter(['price'])\n",
        "dataset = data.values\n",
        "scaler = MinMaxScaler(feature_range=(0,1))\n",
        "scaled_data = scaler.fit_transform(dataset)\n",
        "\n",
        "scaled_data"
      ]
    },
    {
      "cell_type": "code",
      "execution_count": null,
      "metadata": {
        "colab": {
          "base_uri": "https://localhost:8080/"
        },
        "id": "ccc1zQDKj7fV",
        "outputId": "da1f8479-6589-4d6f-8d23-1fdafebb7579"
      },
      "outputs": [
        {
          "output_type": "stream",
          "name": "stdout",
          "text": [
            "19071\n"
          ]
        }
      ],
      "source": [
        "# Step 2\n",
        "\n",
        "training_data_len = int(np.ceil( len(dataset) * .80 ))\n",
        "print(training_data_len)"
      ]
    },
    {
      "cell_type": "code",
      "execution_count": null,
      "metadata": {
        "colab": {
          "base_uri": "https://localhost:8080/"
        },
        "id": "vAEmdHbWj7fW",
        "outputId": "2283572a-b9df-4faa-dd74-8c99461ad927"
      },
      "outputs": [
        {
          "output_type": "stream",
          "name": "stdout",
          "text": [
            "[array([0.22995953, 0.21487804, 0.2101015 , 0.22551469, 0.2299153 ,\n",
            "       0.21229075, 0.22111408, 0.24636784, 0.22332545, 0.22115831])]\n",
            "[0.21669136020875257]\n",
            "\n",
            "[array([0.22995953, 0.21487804, 0.2101015 , 0.22551469, 0.2299153 ,\n",
            "       0.21229075, 0.22111408, 0.24636784, 0.22332545, 0.22115831]), array([0.21487804, 0.2101015 , 0.22551469, 0.2299153 , 0.21229075,\n",
            "       0.22111408, 0.24636784, 0.22332545, 0.22115831, 0.21669136])]\n",
            "[0.21669136020875257, 0.23438225603148943]\n",
            "\n"
          ]
        }
      ],
      "source": [
        "# Step 3\n",
        "\n",
        "train_data = scaled_data[0:int(training_data_len), :]\n",
        "x_train = []\n",
        "y_train = []\n",
        "for i in range(10, len(train_data)):\n",
        "    x_train.append(train_data[i-10:i, 0])\n",
        "    y_train.append(train_data[i, 0])\n",
        "    if i<= 11:\n",
        "        print(x_train)\n",
        "        print(y_train)\n",
        "        print()\n",
        "x_train, y_train = np.array(x_train), np.array(y_train)\n",
        "x_train = np.reshape(x_train, (x_train.shape[0], x_train.shape[1], 1))\n",
        "\n",
        "test_data = scaled_data[training_data_len - 10: , :]\n",
        "x_test = []\n",
        "y_test = dataset[training_data_len:, :]\n",
        "for i in range(10, len(test_data)):\n",
        "    x_test.append(test_data[i-10:i, 0])\n",
        "x_test = np.array(x_test)\n",
        "x_test = np.reshape(x_test, (x_test.shape[0], x_test.shape[1], 1 ))"
      ]
    },
    {
      "cell_type": "code",
      "execution_count": null,
      "metadata": {
        "colab": {
          "base_uri": "https://localhost:8080/"
        },
        "id": "G9g6qMnwj7fX",
        "outputId": "eeeef4d1-92d6-4508-ab5e-53355b99c3f1"
      },
      "outputs": [
        {
          "output_type": "stream",
          "name": "stdout",
          "text": [
            "Epoch 1/100\n",
            "75/75 - 4s - loss: 0.9194 - 4s/epoch - 48ms/step\n",
            "Epoch 2/100\n",
            "75/75 - 1s - loss: 0.2840 - 605ms/epoch - 8ms/step\n",
            "Epoch 3/100\n",
            "75/75 - 1s - loss: 0.0613 - 620ms/epoch - 8ms/step\n",
            "Epoch 4/100\n",
            "75/75 - 1s - loss: 0.0212 - 623ms/epoch - 8ms/step\n",
            "Epoch 5/100\n",
            "75/75 - 1s - loss: 0.0168 - 510ms/epoch - 7ms/step\n",
            "Epoch 6/100\n",
            "75/75 - 0s - loss: 0.0154 - 438ms/epoch - 6ms/step\n",
            "Epoch 7/100\n",
            "75/75 - 0s - loss: 0.0140 - 447ms/epoch - 6ms/step\n",
            "Epoch 8/100\n",
            "75/75 - 0s - loss: 0.0126 - 431ms/epoch - 6ms/step\n",
            "Epoch 9/100\n",
            "75/75 - 0s - loss: 0.0112 - 430ms/epoch - 6ms/step\n",
            "Epoch 10/100\n",
            "75/75 - 0s - loss: 0.0099 - 421ms/epoch - 6ms/step\n",
            "Epoch 11/100\n",
            "75/75 - 0s - loss: 0.0087 - 440ms/epoch - 6ms/step\n",
            "Epoch 12/100\n",
            "75/75 - 0s - loss: 0.0075 - 418ms/epoch - 6ms/step\n",
            "Epoch 13/100\n",
            "75/75 - 0s - loss: 0.0065 - 433ms/epoch - 6ms/step\n",
            "Epoch 14/100\n",
            "75/75 - 0s - loss: 0.0054 - 426ms/epoch - 6ms/step\n",
            "Epoch 15/100\n",
            "75/75 - 0s - loss: 0.0045 - 437ms/epoch - 6ms/step\n",
            "Epoch 16/100\n",
            "75/75 - 0s - loss: 0.0037 - 458ms/epoch - 6ms/step\n",
            "Epoch 17/100\n",
            "75/75 - 1s - loss: 0.0029 - 500ms/epoch - 7ms/step\n",
            "Epoch 18/100\n",
            "75/75 - 1s - loss: 0.0023 - 509ms/epoch - 7ms/step\n",
            "Epoch 19/100\n",
            "75/75 - 0s - loss: 0.0017 - 450ms/epoch - 6ms/step\n",
            "Epoch 20/100\n",
            "75/75 - 1s - loss: 0.0013 - 502ms/epoch - 7ms/step\n",
            "Epoch 21/100\n",
            "75/75 - 0s - loss: 9.1681e-04 - 443ms/epoch - 6ms/step\n",
            "Epoch 22/100\n",
            "75/75 - 0s - loss: 6.5188e-04 - 489ms/epoch - 7ms/step\n",
            "Epoch 23/100\n",
            "75/75 - 0s - loss: 4.6548e-04 - 440ms/epoch - 6ms/step\n",
            "Epoch 24/100\n",
            "75/75 - 0s - loss: 3.4272e-04 - 464ms/epoch - 6ms/step\n",
            "Epoch 25/100\n",
            "75/75 - 0s - loss: 2.6642e-04 - 451ms/epoch - 6ms/step\n",
            "Epoch 26/100\n",
            "75/75 - 0s - loss: 2.2215e-04 - 468ms/epoch - 6ms/step\n",
            "Epoch 27/100\n",
            "75/75 - 1s - loss: 1.9795e-04 - 558ms/epoch - 7ms/step\n",
            "Epoch 28/100\n",
            "75/75 - 1s - loss: 1.8533e-04 - 608ms/epoch - 8ms/step\n",
            "Epoch 29/100\n",
            "75/75 - 1s - loss: 1.7916e-04 - 629ms/epoch - 8ms/step\n",
            "Epoch 30/100\n",
            "75/75 - 1s - loss: 1.7605e-04 - 662ms/epoch - 9ms/step\n",
            "Epoch 31/100\n",
            "75/75 - 1s - loss: 1.7462e-04 - 607ms/epoch - 8ms/step\n",
            "Epoch 32/100\n",
            "75/75 - 1s - loss: 1.7395e-04 - 650ms/epoch - 9ms/step\n",
            "Epoch 33/100\n",
            "75/75 - 1s - loss: 1.7322e-04 - 569ms/epoch - 8ms/step\n",
            "Epoch 34/100\n",
            "75/75 - 0s - loss: 1.7277e-04 - 464ms/epoch - 6ms/step\n",
            "Epoch 35/100\n",
            "75/75 - 0s - loss: 1.7239e-04 - 451ms/epoch - 6ms/step\n",
            "Epoch 36/100\n",
            "75/75 - 0s - loss: 1.7202e-04 - 460ms/epoch - 6ms/step\n",
            "Epoch 37/100\n",
            "75/75 - 0s - loss: 1.7161e-04 - 449ms/epoch - 6ms/step\n",
            "Epoch 38/100\n",
            "75/75 - 0s - loss: 1.7125e-04 - 459ms/epoch - 6ms/step\n",
            "Epoch 39/100\n",
            "75/75 - 0s - loss: 1.7086e-04 - 466ms/epoch - 6ms/step\n",
            "Epoch 40/100\n",
            "75/75 - 0s - loss: 1.7065e-04 - 447ms/epoch - 6ms/step\n",
            "Epoch 41/100\n",
            "75/75 - 0s - loss: 1.7022e-04 - 452ms/epoch - 6ms/step\n",
            "Epoch 42/100\n",
            "75/75 - 0s - loss: 1.6977e-04 - 431ms/epoch - 6ms/step\n",
            "Epoch 43/100\n",
            "75/75 - 0s - loss: 1.6956e-04 - 459ms/epoch - 6ms/step\n",
            "Epoch 44/100\n",
            "75/75 - 0s - loss: 1.6914e-04 - 453ms/epoch - 6ms/step\n",
            "Epoch 45/100\n",
            "75/75 - 0s - loss: 1.6856e-04 - 478ms/epoch - 6ms/step\n",
            "Epoch 46/100\n",
            "75/75 - 0s - loss: 1.6821e-04 - 465ms/epoch - 6ms/step\n",
            "Epoch 47/100\n",
            "75/75 - 0s - loss: 1.6789e-04 - 467ms/epoch - 6ms/step\n",
            "Epoch 48/100\n",
            "75/75 - 0s - loss: 1.6730e-04 - 446ms/epoch - 6ms/step\n",
            "Epoch 49/100\n",
            "75/75 - 0s - loss: 1.6686e-04 - 443ms/epoch - 6ms/step\n",
            "Epoch 50/100\n",
            "75/75 - 0s - loss: 1.6630e-04 - 457ms/epoch - 6ms/step\n",
            "Epoch 51/100\n",
            "75/75 - 0s - loss: 1.6598e-04 - 446ms/epoch - 6ms/step\n",
            "Epoch 52/100\n",
            "75/75 - 0s - loss: 1.6571e-04 - 456ms/epoch - 6ms/step\n",
            "Epoch 53/100\n",
            "75/75 - 0s - loss: 1.6498e-04 - 450ms/epoch - 6ms/step\n",
            "Epoch 54/100\n",
            "75/75 - 1s - loss: 1.6451e-04 - 502ms/epoch - 7ms/step\n",
            "Epoch 55/100\n",
            "75/75 - 1s - loss: 1.6419e-04 - 634ms/epoch - 8ms/step\n",
            "Epoch 56/100\n",
            "75/75 - 1s - loss: 1.6356e-04 - 613ms/epoch - 8ms/step\n",
            "Epoch 57/100\n",
            "75/75 - 1s - loss: 1.6310e-04 - 644ms/epoch - 9ms/step\n",
            "Epoch 58/100\n",
            "75/75 - 1s - loss: 1.6246e-04 - 601ms/epoch - 8ms/step\n",
            "Epoch 59/100\n",
            "75/75 - 1s - loss: 1.6200e-04 - 617ms/epoch - 8ms/step\n",
            "Epoch 60/100\n",
            "75/75 - 1s - loss: 1.6168e-04 - 637ms/epoch - 8ms/step\n",
            "Epoch 61/100\n",
            "75/75 - 0s - loss: 1.6076e-04 - 485ms/epoch - 6ms/step\n",
            "Epoch 62/100\n",
            "75/75 - 0s - loss: 1.6018e-04 - 455ms/epoch - 6ms/step\n",
            "Epoch 63/100\n",
            "75/75 - 0s - loss: 1.5964e-04 - 475ms/epoch - 6ms/step\n",
            "Epoch 64/100\n",
            "75/75 - 0s - loss: 1.5933e-04 - 452ms/epoch - 6ms/step\n",
            "Epoch 65/100\n",
            "75/75 - 0s - loss: 1.5839e-04 - 460ms/epoch - 6ms/step\n",
            "Epoch 66/100\n",
            "75/75 - 0s - loss: 1.5799e-04 - 457ms/epoch - 6ms/step\n",
            "Epoch 67/100\n",
            "75/75 - 0s - loss: 1.5761e-04 - 456ms/epoch - 6ms/step\n",
            "Epoch 68/100\n",
            "75/75 - 0s - loss: 1.5689e-04 - 441ms/epoch - 6ms/step\n",
            "Epoch 69/100\n",
            "75/75 - 0s - loss: 1.5565e-04 - 435ms/epoch - 6ms/step\n",
            "Epoch 70/100\n",
            "75/75 - 0s - loss: 1.5521e-04 - 464ms/epoch - 6ms/step\n",
            "Epoch 71/100\n",
            "75/75 - 0s - loss: 1.5457e-04 - 455ms/epoch - 6ms/step\n",
            "Epoch 72/100\n",
            "75/75 - 0s - loss: 1.5360e-04 - 468ms/epoch - 6ms/step\n",
            "Epoch 73/100\n",
            "75/75 - 0s - loss: 1.5315e-04 - 442ms/epoch - 6ms/step\n",
            "Epoch 74/100\n",
            "75/75 - 0s - loss: 1.5226e-04 - 427ms/epoch - 6ms/step\n",
            "Epoch 75/100\n",
            "75/75 - 0s - loss: 1.5148e-04 - 443ms/epoch - 6ms/step\n",
            "Epoch 76/100\n",
            "75/75 - 0s - loss: 1.5062e-04 - 479ms/epoch - 6ms/step\n",
            "Epoch 77/100\n",
            "75/75 - 0s - loss: 1.5041e-04 - 487ms/epoch - 6ms/step\n",
            "Epoch 78/100\n",
            "75/75 - 1s - loss: 1.4922e-04 - 520ms/epoch - 7ms/step\n",
            "Epoch 79/100\n",
            "75/75 - 1s - loss: 1.4859e-04 - 517ms/epoch - 7ms/step\n",
            "Epoch 80/100\n",
            "75/75 - 0s - loss: 1.4738e-04 - 476ms/epoch - 6ms/step\n",
            "Epoch 81/100\n",
            "75/75 - 0s - loss: 1.4693e-04 - 467ms/epoch - 6ms/step\n",
            "Epoch 82/100\n",
            "75/75 - 1s - loss: 1.4578e-04 - 542ms/epoch - 7ms/step\n",
            "Epoch 83/100\n",
            "75/75 - 1s - loss: 1.4501e-04 - 629ms/epoch - 8ms/step\n",
            "Epoch 84/100\n",
            "75/75 - 1s - loss: 1.4430e-04 - 662ms/epoch - 9ms/step\n",
            "Epoch 85/100\n",
            "75/75 - 1s - loss: 1.4306e-04 - 612ms/epoch - 8ms/step\n",
            "Epoch 86/100\n",
            "75/75 - 1s - loss: 1.4285e-04 - 607ms/epoch - 8ms/step\n",
            "Epoch 87/100\n",
            "75/75 - 1s - loss: 1.4184e-04 - 651ms/epoch - 9ms/step\n",
            "Epoch 88/100\n",
            "75/75 - 1s - loss: 1.4053e-04 - 569ms/epoch - 8ms/step\n",
            "Epoch 89/100\n",
            "75/75 - 0s - loss: 1.3969e-04 - 494ms/epoch - 7ms/step\n",
            "Epoch 90/100\n",
            "75/75 - 0s - loss: 1.3879e-04 - 469ms/epoch - 6ms/step\n",
            "Epoch 91/100\n",
            "75/75 - 0s - loss: 1.3859e-04 - 457ms/epoch - 6ms/step\n",
            "Epoch 92/100\n",
            "75/75 - 1s - loss: 1.3701e-04 - 514ms/epoch - 7ms/step\n",
            "Epoch 93/100\n",
            "75/75 - 0s - loss: 1.3591e-04 - 455ms/epoch - 6ms/step\n",
            "Epoch 94/100\n",
            "75/75 - 0s - loss: 1.3494e-04 - 463ms/epoch - 6ms/step\n",
            "Epoch 95/100\n",
            "75/75 - 0s - loss: 1.3376e-04 - 469ms/epoch - 6ms/step\n",
            "Epoch 96/100\n",
            "75/75 - 1s - loss: 1.3307e-04 - 531ms/epoch - 7ms/step\n",
            "Epoch 97/100\n",
            "75/75 - 0s - loss: 1.3177e-04 - 478ms/epoch - 6ms/step\n",
            "Epoch 98/100\n",
            "75/75 - 0s - loss: 1.3112e-04 - 480ms/epoch - 6ms/step\n",
            "Epoch 99/100\n",
            "75/75 - 0s - loss: 1.2995e-04 - 495ms/epoch - 7ms/step\n",
            "Epoch 100/100\n",
            "75/75 - 0s - loss: 1.2945e-04 - 497ms/epoch - 7ms/step\n"
          ]
        },
        {
          "output_type": "execute_result",
          "data": {
            "text/plain": [
              "<keras.src.callbacks.History at 0x7ebe800b2740>"
            ]
          },
          "metadata": {},
          "execution_count": 22
        }
      ],
      "source": [
        "# Step 4\n",
        "\n",
        "model = Sequential()\n",
        "model.add(LSTM(4, input_shape= (x_train.shape[1], 1)))\n",
        "model.add(Dense(1))\n",
        "# Compile the model\n",
        "model.compile(optimizer='adam', loss='mean_squared_error')\n",
        "# Train the model\n",
        "model.fit(x_train, y_train, batch_size=256, epochs=100, verbose=2)"
      ]
    },
    {
      "cell_type": "code",
      "execution_count": null,
      "metadata": {
        "colab": {
          "base_uri": "https://localhost:8080/"
        },
        "id": "HZW6tS5Rj7fX",
        "outputId": "1a414cef-a926-47ca-a5e8-a8414d9c3384"
      },
      "outputs": [
        {
          "output_type": "stream",
          "name": "stdout",
          "text": [
            "596/596 [==============================] - 3s 5ms/step\n",
            "5.133156923107918\n",
            "149/149 [==============================] - 0s 3ms/step\n",
            "18.240660331197336\n"
          ]
        }
      ],
      "source": [
        "# Part A\n",
        "\n",
        "# train error\n",
        "train_predictions = model.predict(x_train)\n",
        "train_predictions = scaler.inverse_transform(train_predictions)\n",
        "train_rmse = np.sqrt(np.mean(((train_predictions - dataset[10:training_data_len]) ** 2)))\n",
        "print(train_rmse)\n",
        "# test error\n",
        "test_predictions = model.predict(x_test)\n",
        "test_predictions = scaler.inverse_transform(test_predictions)\n",
        "test_rmse = np.sqrt(np.mean(((test_predictions - y_test) ** 2)))\n",
        "print(test_rmse)"
      ]
    },
    {
      "cell_type": "code",
      "source": [
        "# Part B\n",
        "\n",
        "start = int(2/3 * training_data_len)\n",
        "prediction = data[start:training_data_len]\n",
        "prediction['Predictions'] = train_predictions[start-10:training_data_len]\n",
        "tstprediction = data[training_data_len:]\n",
        "tstprediction['Predictions'] = test_predictions\n",
        "plt.title('Bitcoin Price Prediction')\n",
        "plt.xlabel('Date', fontsize=18)\n",
        "plt.ylabel('Price USD ($)', fontsize=18)\n",
        "plt.plot(prediction[['price', 'Predictions']], linewidth=1)\n",
        "plt.plot(tstprediction[['price', 'Predictions']], linewidth=1)\n",
        "plt.legend(['Train Real', 'Train Predictions', 'Test Real', 'Test Predictions'], loc='upper right')\n",
        "plt.show()"
      ],
      "metadata": {
        "colab": {
          "base_uri": "https://localhost:8080/",
          "height": 690
        },
        "id": "W9tmdCs9n-9E",
        "outputId": "fe628410-c558-435c-b8d1-072083558ac3"
      },
      "execution_count": null,
      "outputs": [
        {
          "output_type": "stream",
          "name": "stderr",
          "text": [
            "<ipython-input-69-d3f6a16de663>:5: SettingWithCopyWarning: \n",
            "A value is trying to be set on a copy of a slice from a DataFrame.\n",
            "Try using .loc[row_indexer,col_indexer] = value instead\n",
            "\n",
            "See the caveats in the documentation: https://pandas.pydata.org/pandas-docs/stable/user_guide/indexing.html#returning-a-view-versus-a-copy\n",
            "  prediction['Predictions'] = train_predictions[start-10:training_data_len]\n",
            "<ipython-input-69-d3f6a16de663>:7: SettingWithCopyWarning: \n",
            "A value is trying to be set on a copy of a slice from a DataFrame.\n",
            "Try using .loc[row_indexer,col_indexer] = value instead\n",
            "\n",
            "See the caveats in the documentation: https://pandas.pydata.org/pandas-docs/stable/user_guide/indexing.html#returning-a-view-versus-a-copy\n",
            "  tstprediction['Predictions'] = test_predictions\n"
          ]
        },
        {
          "output_type": "display_data",
          "data": {
            "text/plain": [
              "<Figure size 640x480 with 1 Axes>"
            ],
            "image/png": "[encoded data removed]"
          },
          "metadata": {}
        }
      ]
    }
  ],
  "metadata": {
    "kernelspec": {
      "display_name": "env",
      "language": "python",
      "name": "python3"
    },
    "language_info": {
      "codemirror_mode": {
        "name": "ipython",
        "version": 3
      },
      "file_extension": ".py",
      "mimetype": "text/x-python",
      "name": "python",
      "nbconvert_exporter": "python",
      "pygments_lexer": "ipython3",
      "version": "3.9.17"
    },
    "colab": {
      "provenance": []
    }
  },
  "nbformat": 4,
  "nbformat_minor": 0
}